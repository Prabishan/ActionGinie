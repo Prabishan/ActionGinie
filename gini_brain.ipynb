{
 "cells": [
  {
   "cell_type": "code",
   "execution_count": 191,
   "metadata": {},
   "outputs": [],
   "source": [
    "import numpy as np\n",
    "import datetime\n",
    "import csv\n",
    "\n",
    "def filewriter(days,course):\n",
    "    write_file=open(\"google_mini.txt\",\"a\")\n",
    "    for i in range(0,len(days)):\n",
    "        if(days[i]<0):\n",
    "            write_file.write(\"Your \"+str(course[i])+\" is already past due date.\\n\")\n",
    "        if(days[i]==0):\n",
    "            write_file.write(\"Your \"+str(course[i])+\" is due today \\n\")\n",
    "        if(days[i]>0):\n",
    "            write_file.write(\"Your \"+str(course[i])+\" is due after \"+str(abs(int(days[i])))+\" days.\\n\")\n",
    "    \n",
    "today=date.today()\n",
    "extract=np.array([])\n",
    "course_dat=np.array([])\n",
    "time_data=np.array([])\n",
    "\n",
    "f=open(\"newdata.csv\")\n",
    "for line in f:\n",
    "    length=len(line)\n",
    "extract=np.append(extract,line.split(\",\"))\n",
    "for i in range(0,len(extract)):\n",
    "    if(i%2==1):\n",
    "        transit_arr=extract[i].split(\"-\")\n",
    "        temp=datetime.date(int(transit_arr[0]),int(transit_arr[1]),int(transit_arr[2]))\n",
    "        if(temp>today):\n",
    "            time_data=np.append(time_data,(temp-today).days)\n",
    "        elif(temp<today):\n",
    "            time_data=np.append(time_data,(temp-today).days)\n",
    "        elif(temp==today):\n",
    "            time_data=np.append(time_data,(temp-today).days)\n",
    "    if(i%2==0):\n",
    "        course_dat=np.append(course_dat,extract[i])\n",
    "\n",
    "filewriter(time_data,course_dat)\n"
   ]
  },
  {
   "cell_type": "code",
   "execution_count": 135,
   "metadata": {},
   "outputs": [
    {
     "data": {
      "text/plain": [
       "datetime.date(2018, 2, 4)"
      ]
     },
     "execution_count": 135,
     "metadata": {},
     "output_type": "execute_result"
    }
   ],
   "source": [
    "datetime.date(int(extract[1]),int(extract[3]),int(extract[5]))"
   ]
  },
  {
   "cell_type": "code",
   "execution_count": 147,
   "metadata": {},
   "outputs": [
    {
     "name": "stdout",
     "output_type": "stream",
     "text": [
      "['2018', '2', '4']\n"
     ]
    }
   ],
   "source": [
    "\n",
    "transit_arr=extract[i+1].split(\"-\")\n",
    "print(transit_arr)"
   ]
  },
  {
   "cell_type": "code",
   "execution_count": 140,
   "metadata": {},
   "outputs": [
    {
     "name": "stdout",
     "output_type": "stream",
     "text": [
      "['CSE1310' '2018' 'cse2441' '2' 'math3330' '4']\n"
     ]
    }
   ],
   "source": [
    "print(extract)"
   ]
  },
  {
   "cell_type": "code",
   "execution_count": 157,
   "metadata": {},
   "outputs": [
    {
     "name": "stdout",
     "output_type": "stream",
     "text": [
      "6\n"
     ]
    }
   ],
   "source": [
    "print(len(extract))"
   ]
  },
  {
   "cell_type": "code",
   "execution_count": null,
   "metadata": {},
   "outputs": [],
   "source": []
  }
 ],
 "metadata": {
  "kernelspec": {
   "display_name": "Python 3",
   "language": "python",
   "name": "python3"
  },
  "language_info": {
   "codemirror_mode": {
    "name": "ipython",
    "version": 3
   },
   "file_extension": ".py",
   "mimetype": "text/x-python",
   "name": "python",
   "nbconvert_exporter": "python",
   "pygments_lexer": "ipython3",
   "version": "3.6.5"
  }
 },
 "nbformat": 4,
 "nbformat_minor": 2
}
